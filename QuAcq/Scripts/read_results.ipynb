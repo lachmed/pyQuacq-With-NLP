{
  "nbformat": 4,
  "nbformat_minor": 0,
  "metadata": {
    "colab": {
      "provenance": []
    },
    "kernelspec": {
      "name": "python3",
      "display_name": "Python 3"
    },
    "language_info": {
      "name": "python"
    }
  },
  "cells": [
    {
      "cell_type": "code",
      "source": [
        "class Network:\n",
        "  pass\n",
        "class Constraint:\n",
        "  pass\n",
        "class Conjunction:\n",
        "  pass\n",
        "class Basis:\n",
        "  pass\n",
        "\n",
        "import operator\n",
        "# Here define constraints\n",
        "# this is the relation: a+b!=c\n",
        "def someAndDiff(a,b,c):\n",
        "  return operator.ne( operator.add(a,b) , c )\n",
        "\n",
        "def alldiff():\n",
        "  pass\n",
        "\n",
        "def allequ():\n",
        "  pass\n",
        "\n",
        "def eqDist1(x,y):\n",
        "\n",
        "  return operator.eq(operator.abs(operator.sub(x,y)), 1)\n",
        "\n",
        "def neDist1(x,y):\n",
        "\n",
        "  return operator.ne(operator.abs(operator.sub(x,y)), 1)\n",
        "\n",
        "\n",
        "\n",
        "def eqDist(a,b,c,d):\n",
        "  return operator.eq( operator.abs(operator.sub(a,b)) ,  operator.abs(operator.sub(c,d)))\n",
        "\n",
        "def neDist(a,b,c,d):\n",
        "  return operator.ne( operator.abs(operator.sub(a,b)) ,  operator.abs(operator.sub(c,d)))\n",
        "\n",
        "\n",
        "def eqDist3(repeat,b,c):\n",
        "  return operator.eq( operator.abs(operator.sub(repeat,b)) ,  operator.abs(operator.sub(c,repeat)))\n",
        "\n",
        "def neDist3(repeat,b,c):\n",
        "  return operator.ne( operator.abs(operator.sub(repeat,b)) ,  operator.abs(operator.sub(c,repeat)))\n",
        "\n",
        "\n",
        "\n",
        "vals = [1,2,3,4,5]\n",
        "ops = [operator.ge,operator.le,operator.lt,operator.gt,operator.ne,operator.eq]\n",
        "\n",
        "\n",
        "def eqConst(x, const):\n",
        "  return operator.eq(x,const)\n",
        "\n",
        "def geConst(x, const):\n",
        "  return operator.ge(x,const)\n",
        "\n",
        "def leConst(x, const):\n",
        "  return operator.le(x,const)\n",
        "\n",
        "def ltConst(x, const):\n",
        "  return operator.lt(x,const)\n",
        "\n",
        "def gtConst(x, const):\n",
        "  return operator.gt(x,const)\n",
        "\n",
        "def neConst(x, const):\n",
        "  return operator.ne(x,const)\n",
        "\n",
        "\n",
        "def DistgtValue(x,y, const):\n",
        "  return operator.gt(operator.abs(operator.sub(x,y)),const)\n",
        "\n",
        "def DistgeValue(x,y, const):\n",
        "  return operator.ge(operator.abs(operator.sub(x,y)),const)\n",
        "\n",
        "def DistltValue(x,y, const):\n",
        "  return operator.lt(operator.abs(operator.sub(x,y)),const)\n",
        "\n",
        "def DistleValue(x,y, const):\n",
        "  return operator.le(operator.abs(operator.sub(x,y)),const)\n",
        "\n",
        "def DistneValue(x,y, const):\n",
        "  return operator.ne(operator.abs(operator.sub(x,y)),const)\n",
        "\n",
        "def DisteqValue(x,y, const):\n",
        "  return operator.eq(operator.abs(operator.sub(x,y)),const)\n",
        "\n",
        "\n",
        "def eqDist(a,b,c,d):\n",
        "  return operator.eq( operator.abs(operator.sub(a,b)) ,  operator.abs(operator.sub(c,d)))\n",
        "\n",
        "def neDist(a,b,c,d):\n",
        "  return operator.ne( operator.abs(operator.sub(a,b)) ,  operator.abs(operator.sub(c,d)))\n",
        "\n",
        "def eqDist3(repeat,b,c):\n",
        "  return operator.eq( operator.abs(operator.sub(repeat,b)) ,  operator.abs(operator.sub(c,repeat)))\n",
        "\n",
        "def neDist3(repeat,b,c):\n",
        "  return operator.ne( operator.abs(operator.sub(repeat,b)) ,  operator.abs(operator.sub(c,repeat)))\n",
        "\n",
        "\n",
        "def gtDist(a,b,c,d):\n",
        "  return operator.gt( operator.abs(operator.sub(a,b)) ,  operator.abs(operator.sub(c,d)))\n",
        "\n",
        "def geDist(a,b,c,d):\n",
        "  return operator.ge( operator.abs(operator.sub(a,b)) ,  operator.abs(operator.sub(c,d)))\n",
        "\n",
        "def gtDist3(repeat,b,c):\n",
        "  return operator.gt( operator.abs(operator.sub(repeat,b)) ,  operator.abs(operator.sub(c,repeat)))\n",
        "\n",
        "def geDist3(repeat,b,c):\n",
        "  return operator.ge( operator.abs(operator.sub(repeat,b)) ,  operator.abs(operator.sub(c,repeat)))\n",
        "\n",
        "\n",
        "def ltDist(a,b,c,d):\n",
        "  return operator.lt( operator.abs(operator.sub(a,b)) ,  operator.abs(operator.sub(c,d)))\n",
        "\n",
        "def leDist(a,b,c,d):\n",
        "  return operator.le( operator.abs(operator.sub(a,b)) ,  operator.abs(operator.sub(c,d)))\n",
        "\n",
        "def ltDist3(repeat,b,c):\n",
        "  return operator.lt( operator.abs(operator.sub(repeat,b)) ,  operator.abs(operator.sub(c,repeat)))\n",
        "\n",
        "def leDist3(repeat,b,c):\n",
        "  return operator.le( operator.abs(operator.sub(repeat,b)) ,  operator.abs(operator.sub(c,repeat)))\n"
      ],
      "metadata": {
        "id": "Kwu4WM0t30tV"
      },
      "execution_count": null,
      "outputs": []
    },
    {
      "cell_type": "code",
      "execution_count": null,
      "metadata": {
        "id": "C5gEXMpQlU3k"
      },
      "outputs": [],
      "source": [
        "import pickle\n",
        "\n",
        "\n",
        "with open(\"/content/respurdey10runs.txt\",\"rb\") as f:\n",
        "  resultsPurdey = pickle.load(f)\n",
        "\n",
        "with open(\"/content/resgolomb10runsP1.txt\",\"rb\") as f:\n",
        "  resultsGolombP1 = pickle.load(f)\n",
        "\n",
        "with open(\"/content/resgolomb10runsP2.txt\",\"rb\") as f:\n",
        "  resultsGolombP2= pickle.load(f)\n",
        "\n",
        "resultsGolomb=  resultsGolombP1 + resultsGolombP2\n",
        "\n",
        "with open(\"/content/reszebra10runs.txt\",\"rb\") as f:\n",
        "  resultsZebra = pickle.load(f)\n",
        "\n",
        "with open(\"/content/resrandom10runs.txt\",\"rb\") as f:\n",
        "  resultsRandom = pickle.load(f)\n",
        "\n",
        "with open(\"/content/resjigsaw10runsP1.txt\",\"rb\") as f:\n",
        "  resultsJigsaw1 = pickle.load(f)\n",
        "\n",
        "with open(\"/content/resjigsaw10runsP2.txt\",\"rb\") as f:\n",
        "  resultsJigsaw2 = pickle.load(f)\n",
        "\n",
        "with open(\"/content/resjigsaw10runsP3.txt\",\"rb\") as f:\n",
        "  resultsJigsaw3 = pickle.load(f)\n",
        "\n",
        "resultsJigsaw = resultsJigsaw1+resultsJigsaw2+resultsJigsaw3\n",
        "\n",
        "\n",
        "with open(\"/content/ressuduku10runsP1.txt\",\"rb\") as f:\n",
        "  resultssuduku1 = pickle.load(f)\n",
        "\n",
        "with open(\"/content/ressuduku10runsP2.txt\",\"rb\") as f:\n",
        "  resultssuduku2 = pickle.load(f)\n",
        "\n",
        "with open(\"/content/ressuduku10runsP3.txt\",\"rb\") as f:\n",
        "  resultssuduku3 = pickle.load(f)\n",
        "\n",
        "resultsSuduku = resultssuduku1+resultssuduku2+resultssuduku3\n"
      ]
    },
    {
      "cell_type": "code",
      "source": [
        "resultsPurdey[0].keys()"
      ],
      "metadata": {
        "colab": {
          "base_uri": "https://localhost:8080/"
        },
        "id": "8AiEGZlv4YsY",
        "outputId": "f3ad4a35-8bb5-43f6-dd16-daffa6eb0f49"
      },
      "execution_count": null,
      "outputs": [
        {
          "output_type": "execute_result",
          "data": {
            "text/plain": [
              "dict_keys(['Asolution', 'isAccepted', 'isTargetEquivalentToLearned', 'Learned', 'sizeOfL', 'sizeOfBasis', 'sizeOfTarget', 'QA', 'QC', 'nbExamplesa', 'nbExamplesc', 'tmax', 't', 'averageExampleSize', 'timeA', 'timeC', 'runningTime'])"
            ]
          },
          "metadata": {},
          "execution_count": 14
        }
      ]
    },
    {
      "cell_type": "code",
      "source": [
        "resultsPurdey[0].keys() == resultsSuduku[0].keys() == resultsGolomb[0].keys() == resultsZebra[0].keys() == resultsJigsaw[0].keys()"
      ],
      "metadata": {
        "colab": {
          "base_uri": "https://localhost:8080/"
        },
        "id": "4R8q6jJ9UfB1",
        "outputId": "dd8f7a72-3551-4df2-948d-ee2c97093282"
      },
      "execution_count": null,
      "outputs": [
        {
          "output_type": "execute_result",
          "data": {
            "text/plain": [
              "True"
            ]
          },
          "metadata": {},
          "execution_count": 15
        }
      ]
    },
    {
      "cell_type": "code",
      "source": [
        "\n",
        "def showResults(prob,results):\n",
        "\n",
        "  print(f\"-------------------{prob}:\\n\")\n",
        "\n",
        "  # all converged\n",
        "  print(\"all converged ?: \",all([r[\"isTargetEquivalentToLearned\"] for r in results]))\n",
        "\n",
        "  # size of basis\n",
        "  sizesOfBasis = [r[\"sizeOfBasis\"] for r in results]\n",
        "  average2 = sum(sizesOfBasis)/len(sizesOfBasis)\n",
        "\n",
        "  print(\"Average size of Basis: \",average2)\n",
        "\n",
        "  # |T|\n",
        "  sizesOfTarget = [r[\"sizeOfTarget\"] for r in results]\n",
        "  average3 = sum(sizesOfTarget)/len(sizesOfTarget)\n",
        "\n",
        "  print(\"Average size of Target network: \",average3)\n",
        "\n",
        "\n",
        "\n",
        "  # |L|\n",
        "\n",
        "  sizesOfL = [r[\"sizeOfL\"] for r in results]\n",
        "  average1 = sum(sizesOfL)/len(sizesOfL)\n",
        "\n",
        "  print(\"Average size of learned network: \",average1)\n",
        "\n",
        "  # Qa\n",
        "  Qas = [r[\"QA\"] for r in results]\n",
        "  average4 = sum(Qas)/len(Qas)\n",
        "\n",
        "  print(\"Average of Qas: \",average4)\n",
        "\n",
        "\n",
        "  # Qc\n",
        "  Qcs = [r[\"QC\"] for r in results]\n",
        "  average5 = sum(Qcs)/len(Qcs)\n",
        "\n",
        "  print(\"Average of Qcs: \",average5)\n",
        "\n",
        "\n",
        "  # Q bar\n",
        "  averageExampleSizes = [r[\"averageExampleSize\"] for r in results]\n",
        "  average8 = sum(averageExampleSizes)/len(averageExampleSizes)\n",
        "\n",
        "  print(\"Average of averageExampleSizes: \",average8)\n",
        "\n",
        "  # tmax\n",
        "\n",
        "  tmaxs = [r[\"tmax\"] for r in results]\n",
        "  average6 = sum(tmaxs)/len(tmaxs)\n",
        "\n",
        "  print(\"Average of tmaxs: \",average6)\n",
        "\n",
        "\n",
        "  # t bar\n",
        "  ts = [r[\"t\"] for r in results]\n",
        "  average7 = sum(ts)/len(ts)\n",
        "\n",
        "  print(\"Average of ts: \",average7)\n",
        "\n",
        "  # timea\n",
        "  timeAs = [r[\"timeA\"] for r in results]\n",
        "  average9 = sum(timeAs)/len(timeAs)\n",
        "\n",
        "  print(\"Average of timeAs: \",average9)\n",
        "  # timec\n",
        "  timeCs = [r[\"timeC\"] for r in results]\n",
        "\n",
        "  average10 = sum(timeCs)/len(timeCs)\n",
        "\n",
        "  print(\"Average of timeCs: \",average10)\n",
        "\n",
        "  #  C\n",
        "  runningtimelessthan1hour = [r[\"runningTime\"] for r in results if r[\"runningTime\"]<3600]\n",
        "  print(\"Number of runs that took less than 1 hour: \", len(runningtimelessthan1hour))"
      ],
      "metadata": {
        "id": "STIQdDTJW_M5"
      },
      "execution_count": null,
      "outputs": []
    },
    {
      "cell_type": "code",
      "source": [
        "showResults(\"Purdey\",resultsPurdey)"
      ],
      "metadata": {
        "id": "bCsbQGmcEM71",
        "colab": {
          "base_uri": "https://localhost:8080/"
        },
        "outputId": "fc596471-bf71-4c37-97db-98a9d24b2bf0"
      },
      "execution_count": null,
      "outputs": [
        {
          "output_type": "stream",
          "name": "stdout",
          "text": [
            "-------------------Purdey:\n",
            "\n",
            "all converged ?:  True\n",
            "Average size of Basis:  396.0\n",
            "Average size of Target network:  27.0\n",
            "Average size of learned network:  21.6\n",
            "Average of Qas:  133.3\n",
            "Average of Qcs:  135.3\n",
            "Average of averageExampleSizes:  6.503649294202333\n",
            "Average of tmaxs:  1.2097152948379517\n",
            "Average of ts:  0.13561354124320285\n",
            "Average of timeAs:  9.206839990615844\n",
            "Average of timeCs:  9.206839990615844\n",
            "Number of runs that took less than 1 hour:  10\n"
          ]
        }
      ]
    },
    {
      "cell_type": "code",
      "source": [
        "showResults(\"Zebra\",resultsZebra)"
      ],
      "metadata": {
        "colab": {
          "base_uri": "https://localhost:8080/"
        },
        "id": "dJ0HreZw5DPH",
        "outputId": "2c92a26d-72e3-4ca1-da1f-429d9e8b9320"
      },
      "execution_count": null,
      "outputs": [
        {
          "output_type": "stream",
          "name": "stdout",
          "text": [
            "-------------------Zebra:\n",
            "\n",
            "all converged ?:  True\n",
            "Average size of Basis:  2800.0\n",
            "Average size of Target network:  65.0\n",
            "Average size of learned network:  63.0\n",
            "Average of Qas:  595.7\n",
            "Average of Qcs:  609.8\n",
            "Average of averageExampleSizes:  7.164420402325611\n",
            "Average of tmaxs:  9.265486216545105\n",
            "Average of ts:  0.3364059430582344\n",
            "Average of timeAs:  81.50187652111053\n",
            "Average of timeCs:  96.75525679588318\n",
            "Number of runs that took less than 1 hour:  10\n"
          ]
        }
      ]
    },
    {
      "cell_type": "code",
      "source": [
        "showResults(\"Random\",resultsRandom)"
      ],
      "metadata": {
        "colab": {
          "base_uri": "https://localhost:8080/"
        },
        "id": "mLGGTCzv5QkJ",
        "outputId": "2fdb4244-41f5-4209-beec-9b56f75036e3"
      },
      "execution_count": null,
      "outputs": [
        {
          "output_type": "stream",
          "name": "stdout",
          "text": [
            "-------------------Random:\n",
            "\n",
            "all converged ?:  True\n",
            "Average size of Basis:  7350.0\n",
            "Average size of Target network:  122.0\n",
            "Average size of learned network:  122.0\n",
            "Average of Qas:  1681.6\n",
            "Average of Qcs:  1685.8\n",
            "Average of averageExampleSizes:  6.481337736401821\n",
            "Average of tmaxs:  1.9396278142929078\n",
            "Average of ts:  0.8748232060682692\n",
            "Average of timeAs:  1168.0719428300858\n",
            "Average of timeCs:  1171.319148993492\n",
            "Number of runs that took less than 1 hour:  10\n"
          ]
        }
      ]
    },
    {
      "cell_type": "code",
      "source": [
        "showResults(\"Jigsaw\",resultsJigsaw)"
      ],
      "metadata": {
        "colab": {
          "base_uri": "https://localhost:8080/"
        },
        "id": "j1dk-xM75Sxg",
        "outputId": "99f845b0-ed35-4626-8e25-8561ea842ad9"
      },
      "execution_count": null,
      "outputs": [
        {
          "output_type": "stream",
          "name": "stdout",
          "text": [
            "-------------------Jigsaw:\n",
            "\n",
            "all converged ?:  True\n",
            "Average size of Basis:  19440.0\n",
            "Average size of Target network:  811.0\n",
            "Average size of learned network:  811.0\n",
            "Average of Qas:  5896.1\n",
            "Average of Qcs:  5896.8\n",
            "Average of averageExampleSizes:  3.565640539100964\n",
            "Average of tmaxs:  3.6891315937042237\n",
            "Average of ts:  0.8273713026793278\n",
            "Average of timeAs:  4055.7913631916044\n",
            "Average of timeCs:  4056.015909910202\n",
            "Number of runs that took less than 1 hour:  0\n"
          ]
        }
      ]
    },
    {
      "cell_type": "code",
      "source": [
        "showResults(\"Suduku\",resultsSuduku)"
      ],
      "metadata": {
        "colab": {
          "base_uri": "https://localhost:8080/"
        },
        "id": "swbICgNi5UOx",
        "outputId": "3fd65a4f-024a-4bac-f4fb-0bdf685f75eb"
      },
      "execution_count": null,
      "outputs": [
        {
          "output_type": "stream",
          "name": "stdout",
          "text": [
            "-------------------Suduku:\n",
            "\n",
            "all converged ?:  True\n",
            "Average size of Basis:  19440.0\n",
            "Average size of Target network:  810.0\n",
            "Average size of learned network:  810.0\n",
            "Average of Qas:  5892.2\n",
            "Average of Qcs:  5893.1\n",
            "Average of averageExampleSizes:  3.5901359654640954\n",
            "Average of tmaxs:  3.4099010944366457\n",
            "Average of ts:  0.8437168992838139\n",
            "Average of timeAs:  4132.094284105301\n",
            "Average of timeCs:  4132.577241802215\n",
            "Number of runs that took less than 1 hour:  0\n"
          ]
        }
      ]
    },
    {
      "cell_type": "code",
      "source": [
        "showResults(\"Golomb\",resultsGolomb)"
      ],
      "metadata": {
        "id": "V89emVMx5V9N",
        "outputId": "b1fb3b51-f5b4-45f7-8de6-14054cdbbb81",
        "colab": {
          "base_uri": "https://localhost:8080/"
        }
      },
      "execution_count": null,
      "outputs": [
        {
          "output_type": "stream",
          "name": "stdout",
          "text": [
            "-------------------Golomb:\n",
            "\n",
            "all converged ?:  True\n",
            "Average size of Basis:  896.0\n",
            "Average size of Target network:  385.0\n",
            "Average size of learned network:  132.0\n",
            "Average of Qas:  525.2\n",
            "Average of Qcs:  525.4\n",
            "Average of averageExampleSizes:  4.375506724941244\n",
            "Average of tmaxs:  45.63259727954865\n",
            "Average of ts:  0.5982751280056356\n",
            "Average of timeAs:  279.2109606266022\n",
            "Average of timeCs:  279.2109606266022\n",
            "Number of runs that took less than 1 hour:  10\n"
          ]
        }
      ]
    },
    {
      "cell_type": "code",
      "source": [],
      "metadata": {
        "id": "H8YeQ8yU5YtP"
      },
      "execution_count": null,
      "outputs": []
    }
  ]
}