{
 "cells": [
  {
   "cell_type": "code",
   "execution_count": 1,
   "id": "2b09eb08",
   "metadata": {},
   "outputs": [],
   "source": [
    "import pandas as pd"
   ]
  },
  {
   "cell_type": "code",
   "execution_count": 2,
   "id": "f7e938a8",
   "metadata": {},
   "outputs": [],
   "source": [
    "binary = pd.read_csv(\"/home/med/cspdata/ToFocusOnNow/binaryConstraints/fourthAttempt/binaryData.csv\")\n",
    "binary.drop(columns=[\"Unnamed: 0\"], inplace=True)\n",
    "\n",
    "\n",
    "distances = pd.read_csv(\"/home/med/cspdata/ToFocusOnNow/distances/fourthAttempt/distancesBinary.csv\")\n",
    "distances.drop(columns=[\"Unnamed: 0\"], inplace=True)\n",
    "\n",
    "\n",
    "distancesUnary = pd.read_csv(\"/home/med/cspdata/ToFocusOnNow/distances/fourthAttempt/distancesUnary.csv\")\n",
    "distancesUnary.drop(columns=[\"Unnamed: 0\"], inplace=True)\n",
    "\n",
    "UnaryConstraints = pd.read_csv(\"/home/med/cspdata/ToFocusOnNow/UnaryConstraints/Attempt4/unaryData.csv\")\n",
    "UnaryConstraints.drop(columns=[\"Unnamed: 0\"], inplace=True)"
   ]
  },
  {
   "cell_type": "code",
   "execution_count": 3,
   "id": "ed6ab966",
   "metadata": {},
   "outputs": [],
   "source": [
    "import json"
   ]
  },
  {
   "cell_type": "code",
   "execution_count": 4,
   "id": "4dee2539",
   "metadata": {},
   "outputs": [],
   "source": [
    "for i in binary.index:\n",
    "    ents = json.loads(binary[\"problem_entities\"][i])\n",
    "    for en in ents:\n",
    "        if en[\"type\"] == \"gt\" or en[\"type\"] == \"lt\" or en[\"type\"] == \"ge\" or en[\"type\"] == \"le\" or en[\"type\"] == \"eq\" or en[\"type\"] == \"ne\":             \n",
    "            en[\"type\"] = \"DESC\"\n",
    "    binary[\"problem_entities\"][i] = ents"
   ]
  },
  {
   "cell_type": "code",
   "execution_count": 5,
   "id": "685249da",
   "metadata": {},
   "outputs": [
    {
     "data": {
      "text/plain": [
       "[{'start': 0, 'end': 13, 'type': 'DESC', 'entity': 'The volume of'},\n",
       " {'start': 14, 'end': 24, 'type': 'CONST_ELMS_LEFT', 'entity': 'container1'},\n",
       " {'start': 24, 'end': 34, 'type': 'DESC', 'entity': ' should be'},\n",
       " {'start': 35, 'end': 56, 'type': 'DESC', 'entity': 'greater than or equal'},\n",
       " {'start': 56, 'end': 73, 'type': 'DESC', 'entity': ' to the volume of'},\n",
       " {'start': 74, 'end': 84, 'type': 'CONST_ELMS_RIGHT', 'entity': 'container3'},\n",
       " {'start': 84, 'end': 84, 'type': 'DESC', 'entity': '.'}]"
      ]
     },
     "execution_count": 5,
     "metadata": {},
     "output_type": "execute_result"
    }
   ],
   "source": [
    "binary[\"problem_entities\"][81]"
   ]
  },
  {
   "cell_type": "code",
   "execution_count": 6,
   "id": "e5c309ee",
   "metadata": {},
   "outputs": [],
   "source": [
    "binary.to_csv(\"/home/med/cspdata/ToFocusOnNow/binaryConstraints/fourthAttempt/binaryData_justParams.csv\")"
   ]
  },
  {
   "cell_type": "code",
   "execution_count": 7,
   "id": "b256972f",
   "metadata": {},
   "outputs": [],
   "source": [
    "for i in distances.index:\n",
    "    ents = json.loads(distances[\"problem_entities\"][i])\n",
    "    for en in ents:\n",
    "        if en[\"type\"] == \"DistgtDist\" or en[\"type\"] == \"DistltDist\" or en[\"type\"] == \"DistgeDist\" or en[\"type\"] == \"DistleDist\"  or en[\"type\"] == \"DisteqDist\" or en[\"type\"] == \"DistneDist\":\n",
    "            en[\"type\"] = \"DESC\"\n",
    "    \n",
    "    distances[\"problem_entities\"][i] = ents\n",
    "            "
   ]
  },
  {
   "cell_type": "code",
   "execution_count": 8,
   "id": "224d8cdf",
   "metadata": {},
   "outputs": [],
   "source": [
    "distances.to_csv(\"/home/med/cspdata/ToFocusOnNow/distances/fourthAttempt/distancesBinary_justParams.csv\")"
   ]
  },
  {
   "cell_type": "code",
   "execution_count": 9,
   "id": "8aa228c6",
   "metadata": {},
   "outputs": [],
   "source": [
    "for i in distancesUnary.index:\n",
    "    ents = json.loads(distancesUnary[\"problem_entities\"][i])\n",
    "    for en in ents:\n",
    "        if en[\"type\"] == \"DistgtValue\" or en[\"type\"] == \"DistltValue\" or en[\"type\"] == \"DistgeValue\" or en[\"type\"] == \"DistleValue\" or en[\"type\"] == \"DisteqValue\" or en[\"type\"] == \"DistneValue\":\n",
    "            en[\"type\"] = \"DESC\"\n",
    "    \n",
    "    distancesUnary[\"problem_entities\"][i] = ents"
   ]
  },
  {
   "cell_type": "code",
   "execution_count": 10,
   "id": "1f988dbc",
   "metadata": {},
   "outputs": [],
   "source": [
    "distancesUnary.to_csv(\"/home/med/cspdata/ToFocusOnNow/distances/fourthAttempt/distancesUnary_justParams.csv\")"
   ]
  },
  {
   "cell_type": "code",
   "execution_count": 11,
   "id": "69d8cca6",
   "metadata": {},
   "outputs": [],
   "source": [
    "for i in UnaryConstraints.index:\n",
    "    ents = json.loads(UnaryConstraints[\"problem_entities\"][i])\n",
    "    for en in ents:\n",
    "        if en[\"type\"] == \"gtConst\" or en[\"type\"] == \"ltConst\" or en[\"type\"] == \"geConst\" or en[\"type\"] == \"leConst\" or en[\"type\"] == \"eqConst\"  or en[\"type\"] == \"neConst\":\n",
    "            en[\"type\"] = \"DESC\"\n",
    "    \n",
    "    UnaryConstraints[\"problem_entities\"][i] = ents\n",
    "            "
   ]
  },
  {
   "cell_type": "code",
   "execution_count": 12,
   "id": "ed350280",
   "metadata": {},
   "outputs": [],
   "source": [
    "UnaryConstraints.to_csv(\"/home/med/cspdata/ToFocusOnNow/UnaryConstraints/Attempt4/unaryData_justParams.csv\")"
   ]
  },
  {
   "cell_type": "code",
   "execution_count": null,
   "id": "ea98ec5c",
   "metadata": {},
   "outputs": [],
   "source": []
  }
 ],
 "metadata": {
  "kernelspec": {
   "display_name": "Python 3 (ipykernel)",
   "language": "python",
   "name": "python3"
  },
  "language_info": {
   "codemirror_mode": {
    "name": "ipython",
    "version": 3
   },
   "file_extension": ".py",
   "mimetype": "text/x-python",
   "name": "python",
   "nbconvert_exporter": "python",
   "pygments_lexer": "ipython3",
   "version": "3.9.12"
  }
 },
 "nbformat": 4,
 "nbformat_minor": 5
}
